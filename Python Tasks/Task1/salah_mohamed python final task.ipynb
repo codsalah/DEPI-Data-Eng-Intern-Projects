{
  "cells": [
    {
      "cell_type": "code",
      "execution_count": null,
      "metadata": {
        "id": "UyBGzDRxZyJ6"
      },
      "outputs": [],
      "source": []
    },
    {
      "cell_type": "markdown",
      "metadata": {
        "id": "Yvhe4roqZz8a"
      },
      "source": [
        "# Python Task"
      ]
    },
    {
      "cell_type": "markdown",
      "metadata": {
        "id": "gxonD6PlZ-2C"
      },
      "source": [
        "Question1: Write a function that takes the user's name and age as input. If the age is 18 or above, print \"Hello [name], you are eligible to vote.\" Otherwise, print \"Hello [name], you are not eligible to vote.\""
      ]
    },
    {
      "cell_type": "code",
      "execution_count": 2,
      "metadata": {
        "colab": {
          "base_uri": "https://localhost:8080/"
        },
        "id": "5TgBbwwQZ1zS",
        "outputId": "1ba253c7-a664-4fd4-a617-468501b25061"
      },
      "outputs": [
        {
          "name": "stdout",
          "output_type": "stream",
          "text": [
            "Enter your name: salah\n",
            "Enter you age: 17\n",
            "Hello salah, you are not eligible to vote\n"
          ]
        }
      ],
      "source": [
        "name = input(\"Enter your name: \")\n",
        "age = float(input(\"Enter you age: \"))\n",
        "if age >= 18:\n",
        "  print(f\"Hello {name}, you are eligible to vote\")\n",
        "else:\n",
        "  print(f\"Hello {name}, you are not eligible to vote\")"
      ]
    },
    {
      "cell_type": "markdown",
      "metadata": {
        "id": "dtRoSTwRbFSZ"
      },
      "source": [
        "Question2: Write a function that takes a sentence as input from the user, splits it into words, and stores them in a list. Then, print each word in uppercase on this list."
      ]
    },
    {
      "cell_type": "code",
      "execution_count": 6,
      "metadata": {
        "colab": {
          "base_uri": "https://localhost:8080/"
        },
        "id": "EnmzMEKxcPne",
        "outputId": "8ab87a6c-8c43-4aaa-e42f-442f862bb016"
      },
      "outputs": [
        {
          "name": "stdout",
          "output_type": "stream",
          "text": [
            "Help on method_descriptor:\n",
            "\n",
            "upper(self, /)\n",
            "    Return a copy of the string converted to uppercase.\n",
            "\n"
          ]
        }
      ],
      "source": [
        "help(str.upper)"
      ]
    },
    {
      "cell_type": "code",
      "execution_count": 9,
      "metadata": {
        "colab": {
          "base_uri": "https://localhost:8080/"
        },
        "id": "dkrnFWW0aHfL",
        "outputId": "0ae46fa1-f1f2-4068-f880-b0c6e7e19fcd"
      },
      "outputs": [
        {
          "name": "stdout",
          "output_type": "stream",
          "text": [
            "['SALAH', 'MOHAMED']\n"
          ]
        }
      ],
      "source": [
        "def splitter(sentence):\n",
        "  lstWords = sentence.split(sep = ' ')\n",
        "  upperlst = []\n",
        "  for word in lstWords:\n",
        "    upperword = word.upper()\n",
        "    upperlst.append(upperword)\n",
        "  return upperlst\n",
        "\n",
        "print(splitter(\"salah mohamed\"))"
      ]
    },
    {
      "cell_type": "markdown",
      "metadata": {
        "id": "b333gB_Rctbf"
      },
      "source": [
        "Question3: Create a dictionary employee with keys \"name\", \"age\", and \"position\".\n",
        "\n",
        "Fill the dictionary with this data: employee = { \"name\": \"John Doe\", \"age\": 30, \"position\": \"Software Developer\" } Write a function display_employee that takes the dictionary as a parameter and prints the employee's details in a formatted string. Output example: employee Name [name], Age: [age], position: [position].\n",
        "\n",
        "---\n",
        "\n"
      ]
    },
    {
      "cell_type": "code",
      "execution_count": 16,
      "metadata": {
        "colab": {
          "base_uri": "https://localhost:8080/"
        },
        "id": "UVGYKpZvccx-",
        "outputId": "937a6e60-c5d5-4fb8-9f46-7cfdae020dec"
      },
      "outputs": [
        {
          "name": "stdout",
          "output_type": "stream",
          "text": [
            "name: John Doe, age: 30, position: Software Developer, "
          ]
        }
      ],
      "source": [
        "employee = { \"name\": \"John Doe\",\n",
        "            \"age\": 30,\n",
        "            \"position\": \"Software Developer\" }\n",
        "\n",
        "def display_emp(dictionary):\n",
        "    for key, value in dictionary.items():\n",
        "        print(f\"{key}: {value}\", end =\", \")\n",
        "\n",
        "display_emp(employee)"
      ]
    },
    {
      "cell_type": "markdown",
      "metadata": {
        "id": "ctuYtWx6eRwu"
      },
      "source": [
        "Question4: Write a function that takes a list of numbers as input from the user (separated by spaces). Convert this list to a data structure that removes the duplicates, then print each unique number."
      ]
    },
    {
      "cell_type": "code",
      "execution_count": 21,
      "metadata": {
        "colab": {
          "base_uri": "https://localhost:8080/"
        },
        "id": "YCiYFcgudt36",
        "outputId": "8307cd05-5ec9-4aca-81d9-cf7dc95a9a94"
      },
      "outputs": [
        {
          "data": {
            "text/plain": [
              "{'2', '3', '4', '5', '6', '7', '8', '9'}"
            ]
          },
          "execution_count": 21,
          "metadata": {},
          "output_type": "execute_result"
        }
      ],
      "source": [
        "def setNum(Nums):\n",
        "  sepNums = Nums.split()\n",
        "  newSet = set(sepNums)\n",
        "  return newSet\n",
        "setNum('2 3 4 5 6 7 8 9 9 9 9 9')"
      ]
    },
    {
      "cell_type": "markdown",
      "metadata": {
        "id": "ryHcZaCwfzFG"
      },
      "source": [
        "Question5: Create a list students where each element is a dictionary containing \"name\" and \"grade\".\n",
        "\n",
        "Fill the dictionary with this data: students = [ {\"name\": \"Alice\", \"grade\": 80}, {\"name\": \"Bob\", \"grade\": 65}, {\"name\": \"Charlie\", \"grade\": 90}, {\"name\": \"David\", \"grade\": 70} ]\n",
        "\n",
        "Write a function that takes a list of dictionaries as input, then print the names of students who have a grade above 75."
      ]
    },
    {
      "cell_type": "code",
      "execution_count": 23,
      "metadata": {
        "colab": {
          "base_uri": "https://localhost:8080/"
        },
        "id": "XKk3ufuLfGpn",
        "outputId": "eaaa9d2d-8970-415e-9715-b0f8db0a19bd"
      },
      "outputs": [
        {
          "name": "stdout",
          "output_type": "stream",
          "text": [
            "{'name': 'Alice', 'grade': 80}\n",
            "{'name': 'Charlie', 'grade': 90}\n"
          ]
        }
      ],
      "source": [
        "stdDictLst = [{\"name\": \"Alice\", \"grade\": 80},\n",
        "              {\"name\": \"Bob\", \"grade\": 65},\n",
        "              {\"name\": \"Charlie\", \"grade\": 90},\n",
        "              {\"name\": \"David\", \"grade\": 70}]\n",
        "\n",
        "def highGrades(LstDict):\n",
        "  # Loop for Rows first\n",
        "  for dictionary in LstDict:\n",
        "    if dictionary['grade'] > 75:\n",
        "      print(dictionary)\n",
        "\n",
        "highGrades(stdDictLst)"
      ]
    },
    {
      "cell_type": "markdown",
      "metadata": {
        "id": "cWlXVU8fiEEK"
      },
      "source": [
        "Question6: Write a function common_elements that takes two tuples as parameters and returns a set containing the common elements between the two tuples."
      ]
    },
    {
      "cell_type": "code",
      "execution_count": 27,
      "metadata": {
        "colab": {
          "base_uri": "https://localhost:8080/"
        },
        "id": "sp_Hh86dfjLJ",
        "outputId": "474c7974-d082-4756-925c-077527d5428f"
      },
      "outputs": [
        {
          "data": {
            "text/plain": [
              "{1, 4, 8}"
            ]
          },
          "execution_count": 27,
          "metadata": {},
          "output_type": "execute_result"
        }
      ],
      "source": [
        "tup1 = [1, 2, 4, 8]\n",
        "tup2 = [1, 4, 5, 8]\n",
        "\n",
        "def common_elements(tup1, tup2):\n",
        "  common = []\n",
        "  for t in tup1:\n",
        "    if t in tup2:\n",
        "      common.append(t)\n",
        "  return set(common)\n",
        "common_elements(tup1, tup2)"
      ]
    },
    {
      "cell_type": "markdown",
      "metadata": {
        "id": "qFeXljHxjxxT"
      },
      "source": [
        "Question7: Write a program that continuously takes numbers as input from the user until they enter 0. If the number is positive, add it to a list. If it's negative, add it to a set. Print the list and the set after the program ends.\n"
      ]
    },
    {
      "cell_type": "code",
      "execution_count": 36,
      "metadata": {
        "id": "2jG11RrCi2Tr"
      },
      "outputs": [],
      "source": [
        "def SetorLst():\n",
        "  lst = []\n",
        "  st = set()\n",
        "  while True:\n",
        "    usrInput = int(input())\n",
        "    if usrInput < 0:\n",
        "        st.add(usrInput)\n",
        "    elif usrInput > 0:\n",
        "        lst.append(usrInput)\n",
        "    else:\n",
        "        break\n",
        "\n",
        "  print(\"List of positive numbers:\", lst)\n",
        "  print(\"Set of negative numbers:\", st)\n"
      ]
    },
    {
      "cell_type": "markdown",
      "metadata": {
        "id": "l3LI2m8WmLau"
      },
      "source": [
        "Question8: Create a dictionary inventory where keys are item names and values are their quantities.\n",
        "\n",
        "Fill the dictionary with this data: inventory = { \"apple\": 10, \"banana\": 5, \"cherry\": 0, \"date\": 7 }"
      ]
    },
    {
      "cell_type": "code",
      "execution_count": 38,
      "metadata": {
        "colab": {
          "base_uri": "https://localhost:8080/"
        },
        "id": "5QI1j6D2ky4P",
        "outputId": "d1d51979-fc5e-4825-f757-c4425f3100ce"
      },
      "outputs": [
        {
          "name": "stdout",
          "output_type": "stream",
          "text": [
            "{'apple': 10, 'banana': 5, 'cherry': 0, 'date': 7}\n"
          ]
        }
      ],
      "source": [
        "inventory = {\n",
        "    \"apple\": 10,\n",
        "    \"banana\": 5,\n",
        "    \"cherry\": 0,\n",
        "    \"date\": 7\n",
        "}\n",
        "print(inventory)"
      ]
    },
    {
      "cell_type": "markdown",
      "metadata": {
        "id": "UshEZ-w3mYvy"
      },
      "source": [
        "Question9 : Write a function analyze_scores that takes a list of scores as input. Calculate and return the highest score, lowest score, and average score. Additionally, print a grade (A, B, C, D, F) based on the average score. Info:\n",
        "\n",
        "Grade >= 90 = A\n",
        "Grade >= 80 = B\n",
        "Grade >= 70 C\n",
        "Grade >= 60 D\n",
        "Grade < 60 = F"
      ]
    },
    {
      "cell_type": "code",
      "execution_count": 41,
      "metadata": {
        "colab": {
          "base_uri": "https://localhost:8080/"
        },
        "id": "hHkOv1CUlVt0",
        "outputId": "0ad01c93-e55d-477b-cc0f-9b38095f9182"
      },
      "outputs": [
        {
          "name": "stdout",
          "output_type": "stream",
          "text": [
            "Highest Score: 92\n",
            "Average Score: 86.33\n",
            "Grade: B\n"
          ]
        }
      ],
      "source": [
        "def analyze_scores(lst):\n",
        "  addScore = lst[0]\n",
        "  maxScore = lst[0]\n",
        "  Cnt = 1\n",
        "  for i in lst:\n",
        "    addScore += i\n",
        "    maxScore = max(i, maxScore)\n",
        "    Cnt +=1\n",
        "  avgScore = addScore / Cnt\n",
        "\n",
        "  if avgScore >= 90:\n",
        "      grade = 'A'\n",
        "  elif avgScore >= 80:\n",
        "      grade = 'B'\n",
        "  elif avgScore >= 70:\n",
        "      grade = 'C'\n",
        "  elif avgScore >= 60:\n",
        "      grade = 'D'\n",
        "  else:\n",
        "      grade = 'F'\n",
        "\n",
        "  print(f\"Highest Score: {maxScore}\")\n",
        "  print(f\"Average Score: {avgScore:.2f}\")\n",
        "  print(f\"Grade: {grade}\")\n",
        "\n",
        "  return maxScore, avgScore, grade\n",
        "\n",
        "scores = [85, 92, 78, 90, 88]\n",
        "result = analyze_scores(scores)"
      ]
    },
    {
      "cell_type": "markdown",
      "metadata": {
        "id": "3_uOrOV3oiGs"
      },
      "source": [
        "Question10: Create a function named generated_primes that generates a list of prime numbers up to a given number n."
      ]
    },
    {
      "cell_type": "code",
      "execution_count": 45,
      "metadata": {
        "colab": {
          "base_uri": "https://localhost:8080/"
        },
        "id": "D6PLulFbn_xM",
        "outputId": "e37e8653-2336-48c7-c57c-e2d30d52102c"
      },
      "outputs": [
        {
          "name": "stdout",
          "output_type": "stream",
          "text": [
            "2 => 3 => 5 => 7 => 11 => 13 => 17 => 19 => 23 => 29 => 31 => 37 => 41 => 43 => 47 => 53 => 59 => 61 => 67 => 71 => 73 => 79 => "
          ]
        }
      ],
      "source": [
        "def is_prime_num(n):\n",
        "  if n < 2:\n",
        "    return False\n",
        "  for i in range(2, int(n ** 0.5) + 1):\n",
        "    if n % i == 0:\n",
        "      return False\n",
        "  return True\n",
        "\n",
        "def prime_numbers(end):\n",
        "  for num in range(end + 1):\n",
        "    if is_prime_num(num):\n",
        "      yield num\n",
        "\n",
        "# 💀💀💀💀\n",
        "\n",
        "for prime in prime_numbers(80):\n",
        "  print(prime, end = ' => ')\n"
      ]
    },
    {
      "cell_type": "markdown",
      "metadata": {
        "id": "nQ4JuTf9okCd"
      },
      "source": [
        "Question11: Create a function named is_palindrome that checks whether a given string is a palindrome (reads the same from backward as forward).\n"
      ]
    },
    {
      "cell_type": "code",
      "execution_count": 49,
      "metadata": {
        "colab": {
          "base_uri": "https://localhost:8080/"
        },
        "id": "v9qJ4bfiolGa",
        "outputId": "0bf3b5d0-27e7-417d-fa5c-876fe511c0a0"
      },
      "outputs": [
        {
          "name": "stdout",
          "output_type": "stream",
          "text": [
            "a Palindrome right ?: True\n",
            "a Palindrome right ?: True\n",
            "a Palindrome right ?: False\n"
          ]
        }
      ],
      "source": [
        "def is_palindrome(s):\n",
        "  s = s.lower().replace(\" \", \"\")\n",
        "  return s == s[::-1]\n",
        "test_strings = [\"racecar\", \"BananaB\", \"messi\"]\n",
        "for string in test_strings:\n",
        "  print(f'a Palindrome right ?: {is_palindrome(string)}')"
      ]
    },
    {
      "cell_type": "code",
      "execution_count": null,
      "metadata": {
        "id": "dIrWnLv3r0k6"
      },
      "outputs": [],
      "source": []
    },
    {
      "cell_type": "markdown",
      "metadata": {
        "id": "k53dF9nuoliz"
      },
      "source": [
        "Question12: Implementing a Simple ATM System: Create a simple ATM program that allows a user to: Check their balance. Deposit money. Withdraw money. Exit the program. The program should keep running until the user chooses to exit. The initial balance is 1000$. The program displays a menu with options (choose 1 to check balance, choose 2 to deposit money, choose 3 to withdraw money, and choose 4 to exit) and asks the user to select one. If the user chooses to deposit or withdraw money, take an input of the amount to withdraw or deposit then add or subtract it from the current balance."
      ]
    },
    {
      "cell_type": "code",
      "execution_count": null,
      "metadata": {
        "id": "ilfdHuwnol7F"
      },
      "outputs": [
        {
          "ename": "",
          "evalue": "",
          "output_type": "error",
          "traceback": [
            "\u001b[1;31mRunning cells with 'Python 3.11.7' requires the ipykernel package.\n",
            "\u001b[1;31mRun the following command to install 'ipykernel' into the Python environment. \n",
            "\u001b[1;31mCommand: 'c:/msys64/ucrt64/bin/python.exe -m pip install ipykernel -U --user --force-reinstall'"
          ]
        }
      ],
      "source": [
        "# not today\n",
        "class Account:\n",
        "    def __init__(self, initial_balance=1000):\n",
        "        self.balance = initial_balance\n",
        "\n",
        "    def check_balance(self):\n",
        "        return self.balance\n",
        "\n",
        "    def deposit(self, amount):\n",
        "        if amount > 0:\n",
        "            self.balance += amount\n",
        "            return True\n",
        "        return False\n",
        "\n",
        "    def withdraw(self, amount):\n",
        "        if 0 < amount <= self.balance:\n",
        "            self.balance -= amount\n",
        "            return True\n",
        "        return False\n",
        "\n",
        "\n",
        "class ATM:\n",
        "    def __init__(self):\n",
        "        self.account = Account()\n",
        "\n",
        "    def display_menu(self):\n",
        "        print(\"\\nATM Menu:\")\n",
        "        print(\"1. Check Balance\")\n",
        "        print(\"2. Deposit Money\")\n",
        "        print(\"3. Withdraw Money\")\n",
        "        print(\"4. Exit\")\n",
        "\n",
        "    def handle_option(self, option):\n",
        "        if option == '1':\n",
        "            self.show_balance()\n",
        "        elif option == '2':\n",
        "            self.deposit_money()\n",
        "        elif option == '3':\n",
        "            self.withdraw_money()\n",
        "        elif option == '4':\n",
        "            self.exit_atm()\n",
        "        else:\n",
        "            print(\"Invalid choice. Please select a valid option.\")\n",
        "\n",
        "    def show_balance(self):\n",
        "        print(f\"Your current balance is: ${self.account.check_balance()}\")\n",
        "\n",
        "    def deposit_money(self):\n",
        "        try:\n",
        "            amount = float(input(\"Enter the amount to deposit: $\"))\n",
        "            if self.account.deposit(amount):\n",
        "                print(f\"${amount} has been deposited. New balance: ${self.account.check_balance()}\")\n",
        "            else:\n",
        "                print(\"Please enter a valid amount.\")\n",
        "        except ValueError:\n",
        "            print(\"Invalid input. Please enter a numeric value.\")\n",
        "\n",
        "    def withdraw_money(self):\n",
        "        try:\n",
        "            amount = float(input(\"Enter the amount to withdraw: $\"))\n",
        "            if self.account.withdraw(amount):\n",
        "                print(f\"${amount} has been withdrawn. New balance: ${self.account.check_balance()}\")\n",
        "            elif amount > self.account.check_balance():\n",
        "                print(\"Insufficient balance.\")\n",
        "            else:\n",
        "                print(\"Please enter a valid amount.\")\n",
        "        except ValueError:\n",
        "            print(\"Invalid input. Please enter a numeric value.\")\n",
        "\n",
        "    def exit_atm(self):\n",
        "        print(\"Exiting the program. Thank you!\")\n",
        "        return True\n",
        "\n",
        "    def run(self):\n",
        "        while True:\n",
        "            self.display_menu()\n",
        "            option = input(\"Choose an option (1-4): \")\n",
        "            if option == '4':\n",
        "                self.exit_atm()\n",
        "                break\n",
        "            self.handle_option(option)\n",
        "\n",
        "\n",
        "if __name__ == \"__main__\":\n",
        "    atm = ATM()\n",
        "    atm.run()\n"
      ]
    },
    {
      "cell_type": "code",
      "execution_count": null,
      "metadata": {},
      "outputs": [],
      "source": []
    }
  ],
  "metadata": {
    "colab": {
      "provenance": []
    },
    "kernelspec": {
      "display_name": "Python 3",
      "name": "python3"
    },
    "language_info": {
      "name": "python",
      "version": "3.11.7"
    }
  },
  "nbformat": 4,
  "nbformat_minor": 0
}
